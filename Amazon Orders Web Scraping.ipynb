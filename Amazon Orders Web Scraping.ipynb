{
 "cells": [
  {
   "cell_type": "markdown",
   "metadata": {},
   "source": [
    "# Amazon Orders Web Scraping"
   ]
  },
  {
   "cell_type": "markdown",
   "metadata": {},
   "source": [
    "## Create scraper class"
   ]
  },
  {
   "cell_type": "code",
   "execution_count": null,
   "metadata": {},
   "outputs": [],
   "source": [
    "import numpy as np\n",
    "import pandas as pd\n",
    "import bs4\n",
    "from bs4 import BeautifulSoup\n",
    "import requests\n",
    "import csv\n",
    "import datetime\n",
    "import time\n",
    "\n",
    "import os  \n",
    "from selenium import webdriver  \n",
    "from selenium.webdriver.common.keys import Keys  \n",
    "from selenium.webdriver.chrome.options import Options \n",
    "\n",
    "class AmazonOrderScraper:\n",
    "    \n",
    "    def __init__(self):\n",
    "        self.date = np.array([])\n",
    "        self.cost = np.array([])\n",
    "        self.order_id = np.array([])\n",
    "        \n",
    "        \n",
    "    \n",
    "    def URL(self, year: int, start_index: int) -> str:\n",
    "        \n",
    "        return \"https://www.amazon.co.uk/gp/your-account/order-history/ref=ppx_yo_dt_b_pagination_1_4?ie=UTF8&orderFilter=year-\" + \\\n",
    "                str(year) + \\\n",
    "                \"&search=&startIndex=\" + \\\n",
    "                str(start_index)\n",
    "    \n",
    "    \n",
    "    def scrape_order_data(self, start_year: int, end_year: int) -> pd.DataFrame:\n",
    "        \n",
    "        years = list(range(start_year, end_year + 1))\n",
    "        \n",
    "        driver = self.start_driver_and_manually_login_to_amazon()\n",
    "\n",
    "        for year in years:\n",
    "            driver.get(\n",
    "                self.URL(year, 0)\n",
    "            )\n",
    "            \n",
    "            number_of_pages = self.find_max_number_of_pages(driver)\n",
    "            \n",
    "            self.scrape_first_page_before_progressing(driver)\n",
    "\n",
    "            for i in range(number_of_pages):\n",
    "                self.scrape_page(driver, year, i)\n",
    "\n",
    "            print(f\"Order data extracted for { year }\") \n",
    "            \n",
    "        driver.close()\n",
    "        \n",
    "        print(\"Scraping done :)\")\n",
    "            \n",
    "        order_data = pd.DataFrame({\n",
    "            \"Date\": self.date,\n",
    "            \"Cost £\": self.cost,\n",
    "            \"Order ID\": self.order_id\n",
    "        })\n",
    "        \n",
    "        order_data = self.prepare_dataset(order_data)\n",
    "        \n",
    "        order_data.to_csv(r\"amazon-orders.csv\")\n",
    "            \n",
    "        return order_data\n",
    "    \n",
    "\n",
    "    def start_driver_and_manually_login_to_amazon(self) -> webdriver:\n",
    "        options = webdriver.ChromeOptions()\n",
    "        options.add_argument(\"--start-maximized\")\n",
    "        \n",
    "        driver = webdriver.Chrome(\"chromedriver.exe\", options=options)\n",
    "        driver.get(\"https://www.amazon.co.uk/ap/signin?_encoding=UTF8&accountStatusPolicy=P1&openid.assoc_handle=gbflex&openid.claimed_id=http%3A%2F%2Fspecs.openid.net%2Fauth%2F2.0%2Fidentifier_select&openid.identity=http%3A%2F%2Fspecs.openid.net%2Fauth%2F2.0%2Fidentifier_select&openid.mode=checkid_setup&openid.ns=http%3A%2F%2Fspecs.openid.net%2Fauth%2F2.0&openid.ns.pape=http%3A%2F%2Fspecs.openid.net%2Fextensions%2Fpape%2F1.0&openid.pape.max_auth_age=0&openid.return_to=https%3A%2F%2Fwww.amazon.co.uk%2Fgp%2Fcss%2Forder-history%3Fie%3DUTF8%26ref_%3Dnav_orders_first&pageId=webcs-yourorder&showRmrMe=1\")\n",
    "        time.sleep(30) # allows time for manual sign in - increase if you need more time\n",
    "        \n",
    "        \n",
    "        return driver\n",
    "    \n",
    "    \n",
    "    def find_max_number_of_pages(self, driver: webdriver) -> int:\n",
    "        time.sleep(2)\n",
    "        page_source = driver.page_source\n",
    "        page_content = BeautifulSoup(page_source, \"html.parser\")\n",
    "\n",
    "        a_normal = page_content.findAll(\"li\", {\"class\": \"a-normal\"})\n",
    "        a_selected = page_content.findAll(\"li\", {\"class\": \"a-selected\"})\n",
    "        max_pages = len(a_normal + a_selected) - 1\n",
    "       \n",
    "    \n",
    "        return max_pages\n",
    "    \n",
    "    \n",
    "    def scrape_first_page_before_progressing(self, driver: webdriver) -> None:\n",
    "        time.sleep(2)\n",
    "        page_source = driver.page_source\n",
    "        page_content = BeautifulSoup(page_source, \"html.parser\")\n",
    "        order_info = page_content.findAll(\"span\", {\"class\": \"a-color-secondary value\"})\n",
    "\n",
    "        orders = []\n",
    "        for i in order_info:\n",
    "            orders.append(i.text.strip())\n",
    "\n",
    "        index = 0\n",
    "        for i in orders:\n",
    "            if index == 0:\n",
    "                self.date = np.append(self.date, i)\n",
    "                index += 1\n",
    "            elif index == 1:\n",
    "                self.cost = np.append(self.cost, i)\n",
    "                index += 1\n",
    "            elif index == 2:\n",
    "                self.order_id = np.append(self.order_id, i)\n",
    "                index = 0\n",
    "    \n",
    "    \n",
    "    def scrape_page(self, driver: webdriver, year: int, i: int) -> None:\n",
    "        start_index = list(range(10, 110, 10))\n",
    "        \n",
    "        driver.get(\n",
    "            self.URL(year, start_index[i])\n",
    "        )\n",
    "        time.sleep(2)\n",
    "\n",
    "        data = driver.page_source\n",
    "        page_content = BeautifulSoup(data, \"html.parser\")\n",
    "\n",
    "        order_info = page_content.findAll(\"span\", {\"class\": \"a-color-secondary value\"})\n",
    "\n",
    "        orders = []\n",
    "        for i in order_info:\n",
    "            orders.append(i.text.strip())\n",
    "\n",
    "        index = 0\n",
    "        for i in orders:\n",
    "            if index == 0:\n",
    "                self.date = np.append(self.date, i)\n",
    "                index += 1\n",
    "            elif index == 1:\n",
    "                self.cost = np.append(self.cost, i)\n",
    "                index += 1\n",
    "            elif index == 2:\n",
    "                self.order_id = np.append(self.order_id, i)\n",
    "                index = 0\n",
    "                \n",
    "    \n",
    "    def prepare_dataset(self, order_data: pd.DataFrame) -> pd.DataFrame:\n",
    "        order_data.set_index(\"Order ID\", inplace=True)\n",
    "\n",
    "        order_data['Cost £'] = order_data['Cost £'].str.replace(\"£\", \"\").astype(float)\n",
    "        order_data['Order Date'] = pd.to_datetime(order_data['Date'])\n",
    "        order_data['Year'] = pd.DatetimeIndex(order_data['Order Date']).year\n",
    "        order_data['Month Number'] = pd.DatetimeIndex(order_data['Order Date']).month\n",
    "        order_data['Day'] = pd.DatetimeIndex(order_data['Order Date']).dayofweek\n",
    "        \n",
    "        dayOfWeek={0:'Monday', 1:'Tuesday', 2:'Wednesday', 3:'Thursday', 4:'Friday', 5:'Saturday', 6:'Sunday'}\n",
    "        order_data['Day Of Week'] = order_data['Order Date'].dt.dayofweek.map(dayOfWeek)\n",
    "        \n",
    "        month = {1:'January', 2:'February', 3:'March', 4:'April', 5:'May', 6:'June', 7:'July', 8:'August', 9:'September', 10:'October', 11:'November', 12:'December'}\n",
    "        order_data['Month'] = order_data['Order Date'].dt.month.map(month)\n",
    "        \n",
    "        \n",
    "        return order_data\n",
    "    "
   ]
  },
  {
   "cell_type": "markdown",
   "metadata": {},
   "source": [
    "## Scrape data"
   ]
  },
  {
   "cell_type": "code",
   "execution_count": null,
   "metadata": {},
   "outputs": [],
   "source": [
    "aos = AmazonOrderScraper()\n",
    "\n",
    "order_data = aos.scrape_order_data(\n",
    "    start_year = 2010,\n",
    "    end_year = 2021\n",
    ")"
   ]
  },
  {
   "cell_type": "markdown",
   "metadata": {},
   "source": [
    "## Analyse data"
   ]
  },
  {
   "cell_type": "code",
   "execution_count": null,
   "metadata": {},
   "outputs": [],
   "source": [
    "import numpy as np\n",
    "import pandas as pd\n",
    "import matplotlib.pyplot as plt \n",
    "import seaborn as sns\n",
    "sns.set(rc={'figure.facecolor':'white'})"
   ]
  },
  {
   "cell_type": "code",
   "execution_count": null,
   "metadata": {},
   "outputs": [],
   "source": [
    "print(f\"Columns: { order_data.shape[1] }\", end=\"\\n\")\n",
    "print(f\"Rows: { order_data.shape[0] }\", end=\"\\n\")"
   ]
  },
  {
   "cell_type": "code",
   "execution_count": null,
   "metadata": {},
   "outputs": [],
   "source": [
    "order_data.head()"
   ]
  },
  {
   "cell_type": "code",
   "execution_count": null,
   "metadata": {},
   "outputs": [],
   "source": [
    "order_data.tail()"
   ]
  },
  {
   "cell_type": "code",
   "execution_count": null,
   "metadata": {},
   "outputs": [],
   "source": [
    "order_data.describe()"
   ]
  },
  {
   "cell_type": "markdown",
   "metadata": {},
   "source": [
    "### Total amount spent"
   ]
  },
  {
   "cell_type": "code",
   "execution_count": null,
   "metadata": {},
   "outputs": [],
   "source": [
    "total_amount_spent = order_data[\"Cost £\"].sum()\n",
    "print(f\"Total amount spent: £{ total_amount_spent }\")"
   ]
  },
  {
   "cell_type": "code",
   "execution_count": null,
   "metadata": {},
   "outputs": [],
   "source": [
    "average_amount_spent_per_order = order_data[\"Cost £\"].mean()\n",
    "print(f\"Average amount spent per order: £{ round(average_amount_spent_per_order, 2) }\")"
   ]
  },
  {
   "cell_type": "markdown",
   "metadata": {},
   "source": [
    "### Most and least expensive orders"
   ]
  },
  {
   "cell_type": "code",
   "execution_count": null,
   "metadata": {},
   "outputs": [],
   "source": [
    "order_data.loc[order_data['Cost £'] == order_data['Cost £'].max()]"
   ]
  },
  {
   "cell_type": "code",
   "execution_count": null,
   "metadata": {},
   "outputs": [],
   "source": [
    "order_data.loc[order_data['Cost £'] == order_data['Cost £'].min()]"
   ]
  },
  {
   "cell_type": "markdown",
   "metadata": {},
   "source": [
    "### Top five most expensive orders"
   ]
  },
  {
   "cell_type": "code",
   "execution_count": null,
   "metadata": {},
   "outputs": [],
   "source": [
    "order_data.sort_values(ascending=False, by=\"Cost £\").head(5)"
   ]
  },
  {
   "cell_type": "markdown",
   "metadata": {},
   "source": [
    "### Total spending per year"
   ]
  },
  {
   "cell_type": "code",
   "execution_count": null,
   "metadata": {},
   "outputs": [],
   "source": [
    "fig, ax = plt.subplots(figsize=(15,6))\n",
    "yoy_cost = order_data.groupby(['Year'], as_index=False).sum()\n",
    "sns.lineplot(x=yoy_cost['Year'], y=yoy_cost['Cost £'], color=\"grey\");\n",
    "plt.title(\"How much spending per year?\");\n",
    "plt.ylabel('Spending £')"
   ]
  },
  {
   "cell_type": "markdown",
   "metadata": {},
   "source": [
    "### Count of orders per year"
   ]
  },
  {
   "cell_type": "code",
   "execution_count": null,
   "metadata": {},
   "outputs": [],
   "source": [
    "fig, ax = plt.subplots(figsize=(15,6))\n",
    "yoy_order_count = order_data.groupby(['Year'], as_index=False).count()\n",
    "sns.lineplot(x=yoy_order_count['Year'], y=yoy_order_count['Cost £'], color=\"Grey\");\n",
    "plt.title(\"How many orders per year?\");\n",
    "plt.ylabel('Count of Orders')"
   ]
  },
  {
   "cell_type": "markdown",
   "metadata": {},
   "source": [
    "### Total monthly spend"
   ]
  },
  {
   "cell_type": "code",
   "execution_count": null,
   "metadata": {},
   "outputs": [],
   "source": [
    "months = ['January', 'February', 'March', 'April', 'May', 'June', 'July', 'August', 'September', 'October', 'November', 'December']\n",
    "\n",
    "fig, ax = plt.subplots(figsize=(15,6))\n",
    "monthly_cost = order_data.groupby(['Month'], as_index=False).sum()\n",
    "sns.barplot(x=monthly_cost['Month'], y=monthly_cost['Cost £'], order=months, color=\"Grey\");\n",
    "plt.ylabel('Spending £')\n",
    "plt.title(\"How much overall spending per month?\");"
   ]
  },
  {
   "cell_type": "markdown",
   "metadata": {},
   "source": [
    "### Average monthly spend"
   ]
  },
  {
   "cell_type": "code",
   "execution_count": null,
   "metadata": {},
   "outputs": [],
   "source": [
    "months = ['January', 'February', 'March', 'April', 'May', 'June', 'July', 'August', 'September', 'October', 'November', 'December']\n",
    "\n",
    "fig, ax = plt.subplots(figsize=(15,6))\n",
    "monthly_cost = order_data.groupby(['Month'], as_index=False).mean()\n",
    "sns.barplot(x=monthly_cost['Month'], y=monthly_cost['Cost £'], order=months, color=\"Grey\");\n",
    "plt.ylabel('Spending £')\n",
    "plt.title(\"Average spending per month?\");"
   ]
  },
  {
   "cell_type": "markdown",
   "metadata": {},
   "source": [
    "### Day of the week with highest spending"
   ]
  },
  {
   "cell_type": "code",
   "execution_count": null,
   "metadata": {},
   "outputs": [],
   "source": [
    "days_of_week = ['Monday', 'Tuesday', 'Wednesday', 'Thursday', 'Friday', 'Saturday', 'Sunday']\n",
    "\n",
    "\n",
    "fig, ax = plt.subplots(figsize=(15,6))\n",
    "day_of_week_cost = order_data.groupby(['Day Of Week'], as_index=False).sum()\n",
    "sns.barplot(x=day_of_week_cost['Day Of Week'], y=day_of_week_cost['Cost £'], order=days_of_week, color=\"Grey\");\n",
    "plt.ylabel('Spending £')\n",
    "plt.title(\"Which day of the week has the highest spend?\");"
   ]
  },
  {
   "cell_type": "markdown",
   "metadata": {},
   "source": [
    "### All data time series"
   ]
  },
  {
   "cell_type": "code",
   "execution_count": null,
   "metadata": {},
   "outputs": [],
   "source": [
    "fig, ax = plt.subplots(figsize=(15,6))\n",
    "sns.lineplot(x=order_data['Order Date'], y=order_data['Cost £'], color=\"Grey\");\n",
    "plt.ylabel('Spending £')\n",
    "plt.title(\"Spending Time Series\");"
   ]
  },
  {
   "cell_type": "code",
   "execution_count": null,
   "metadata": {},
   "outputs": [],
   "source": []
  }
 ],
 "metadata": {
  "kernelspec": {
   "display_name": "Python 3",
   "language": "python",
   "name": "python3"
  },
  "language_info": {
   "codemirror_mode": {
    "name": "ipython",
    "version": 3
   },
   "file_extension": ".py",
   "mimetype": "text/x-python",
   "name": "python",
   "nbconvert_exporter": "python",
   "pygments_lexer": "ipython3",
   "version": "3.6.13"
  }
 },
 "nbformat": 4,
 "nbformat_minor": 2
}
